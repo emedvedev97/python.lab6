{
 "cells": [
  {
   "cell_type": "code",
   "execution_count": 1,
   "metadata": {},
   "outputs": [],
   "source": [
    "import pandas as pd\n",
    "from sklearn.model_selection import GridSearchCV\n",
    "import matplotlib.pyplot as plt\n",
    "import numpy as np\n",
    "from sklearn.ensemble import AdaBoostClassifier\n",
    "from sklearn.naive_bayes import GaussianNB\n",
    "from sklearn.linear_model import LogisticRegression"
   ]
  },
  {
   "cell_type": "code",
   "execution_count": 2,
   "metadata": {},
   "outputs": [],
   "source": [
    "x_train = pd.read_csv(\"train.csv\")\n",
    "length = len(x_train.index)"
   ]
  },
  {
   "cell_type": "markdown",
   "metadata": {},
   "source": [
    "hi = int(length * 0.7)\n",
    "low = length - hi"
   ]
  },
  {
   "cell_type": "code",
   "execution_count": 3,
   "metadata": {},
   "outputs": [],
   "source": [
    "x_train , x_test = x_train[0:623].reset_index(drop=True) , x_train[624:891].reset_index(drop=True)"
   ]
  },
  {
   "cell_type": "code",
   "execution_count": 4,
   "metadata": {},
   "outputs": [],
   "source": [
    "y_test = x_test['Survived']\n",
    "y_train = x_train['Survived']"
   ]
  },
  {
   "cell_type": "code",
   "execution_count": 5,
   "metadata": {},
   "outputs": [],
   "source": [
    "def masFilter(mas):\n",
    "    mas = mas[[\"PassengerId\",\"Sex\",\"Age\",\"Pclass\"]].copy()\n",
    "    mas['Age'].fillna(mas['Age'].median(), inplace=True)\n",
    "    mas['Sex'] = pd.factorize(mas['Sex'])[0]\n",
    "    \n",
    "\n",
    "    return mas"
   ]
  },
  {
   "cell_type": "code",
   "execution_count": 6,
   "metadata": {},
   "outputs": [],
   "source": [
    "x_tr = masFilter(x_train)\n",
    "x_te = masFilter(x_test)\n",
    "x_train = x_tr[[\"Sex\",\"Age\",\"Pclass\"]].copy()\n",
    "x_test = x_te[[\"Sex\",\"Age\",\"Pclass\"]].copy()"
   ]
  },
  {
   "cell_type": "code",
   "execution_count": 7,
   "metadata": {},
   "outputs": [],
   "source": [
    "import multiprocessing\n",
    "cores=multiprocessing.cpu_count()-2"
   ]
  },
  {
   "cell_type": "code",
   "execution_count": 18,
   "metadata": {},
   "outputs": [],
   "source": [
    "paramsGNB = {\n",
    "        \"base_estimator__priors\": [[0.1,0.9],[0.2,0.8],[0.001,0.999],[0.5,0.5],[0.6,0.4],[0.49,0.51]],\n",
    "        \"base_estimator__var_smoothing\" : [1e-12, 1e-11, 1e-10, 1e-9, 1e-8, 1e-7, 1e-6, 1e-5, 1e-4],\n",
    "        \"n_estimators\" : [10,50,80,130,400],\n",
    "        \"learning_rate\": [0.1, 0.01]\n",
    "}\n",
    "paramsLR={\n",
    "        \"base_estimator__C\":np.logspace(-3,3,7),\n",
    "        \"base_estimator__penalty\":[\"l1\",\"l2\"],\n",
    "        \"n_estimators\" : [10,50,80,130,400],\n",
    "        \"learning_rate\": [0.1, 0.01]\n",
    "}"
   ]
  },
  {
   "cell_type": "code",
   "execution_count": 19,
   "metadata": {},
   "outputs": [
    {
     "name": "stdout",
     "output_type": "stream",
     "text": [
      "Fitting 10 folds for each of 432 candidates, totalling 4320 fits\n"
     ]
    },
    {
     "name": "stderr",
     "output_type": "stream",
     "text": [
      "[Parallel(n_jobs=6)]: Using backend LokyBackend with 6 concurrent workers.\n",
      "[Parallel(n_jobs=6)]: Done  29 tasks      | elapsed:    2.4s\n",
      "[Parallel(n_jobs=6)]: Done 150 tasks      | elapsed:    7.0s\n",
      "[Parallel(n_jobs=6)]: Done 353 tasks      | elapsed:   15.2s\n",
      "[Parallel(n_jobs=6)]: Done 636 tasks      | elapsed:   26.7s\n",
      "[Parallel(n_jobs=6)]: Done 1001 tasks      | elapsed:   42.6s\n",
      "[Parallel(n_jobs=6)]: Done 1446 tasks      | elapsed:  1.0min\n",
      "[Parallel(n_jobs=6)]: Done 1973 tasks      | elapsed:  1.4min\n",
      "[Parallel(n_jobs=6)]: Done 2580 tasks      | elapsed:  1.9min\n",
      "[Parallel(n_jobs=6)]: Done 3269 tasks      | elapsed:  2.4min\n",
      "[Parallel(n_jobs=6)]: Done 4038 tasks      | elapsed:  3.1min\n",
      "[Parallel(n_jobs=6)]: Done 4320 out of 4320 | elapsed:  3.3min finished\n",
      "/home/emedvedev/.local/lib64/python3.6/site-packages/sklearn/model_selection/_search.py:814: DeprecationWarning: The default of the `iid` parameter will change from True to False in version 0.22 and will be removed in 0.24. This will change numeric results when test-set sizes are unequal.\n",
      "  DeprecationWarning)\n"
     ]
    },
    {
     "data": {
      "text/plain": [
       "GridSearchCV(cv=10, error_score='raise-deprecating',\n",
       "             estimator=AdaBoostClassifier(algorithm='SAMME.R',\n",
       "                                          base_estimator=GaussianNB(priors=None,\n",
       "                                                                    var_smoothing=1e-09),\n",
       "                                          learning_rate=1.0, n_estimators=50,\n",
       "                                          random_state=None),\n",
       "             iid='warn', n_jobs=6,\n",
       "             param_grid={'base_estimator__priors': [[0.1, 0.9], [0.2, 0.8],\n",
       "                                                    [0.001, 0.999], [0.5, 0.5],\n",
       "                                                    [0.6, 0.4], [0.49, 0.51]],\n",
       "                         'base_estimator__var_smoothing': [1e-12, 1e-11, 1e-10,\n",
       "                                                           1e-09, 1e-08, 1e-07,\n",
       "                                                           1e-06, 1e-05,\n",
       "                                                           0.0001],\n",
       "                         'learning_rate': [0.1, 0.01],\n",
       "                         'n_estimators': [30, 50, 80, 130]},\n",
       "             pre_dispatch='2*n_jobs', refit=True, return_train_score=False,\n",
       "             scoring=None, verbose=2)"
      ]
     },
     "execution_count": 19,
     "metadata": {},
     "output_type": "execute_result"
    }
   ],
   "source": [
    "adaGNB = AdaBoostClassifier(GaussianNB())\n",
    "adaLR = AdaBoostClassifier(LogisticRegression())"
   ]
  },
  {
   "cell_type": "code",
   "execution_count": 20,
   "metadata": {},
   "outputs": [
    {
     "data": {
      "text/plain": [
       "0.7913322632423756"
      ]
     },
     "execution_count": 20,
     "metadata": {},
     "output_type": "execute_result"
    }
   ],
   "source": [
    "grid1.best_score_"
   ]
  },
  {
   "cell_type": "code",
   "execution_count": 21,
   "metadata": {},
   "outputs": [
    {
     "data": {
      "text/plain": [
       "0.7790262172284644"
      ]
     },
     "execution_count": 21,
     "metadata": {},
     "output_type": "execute_result"
    }
   ],
   "source": [
    "grid1.score(x_test, y_test)"
   ]
  },
  {
   "cell_type": "code",
   "execution_count": null,
   "metadata": {},
   "outputs": [],
   "source": [
    "grid1 = GridSearchCV(adaGNB,paramsGNB,refit = True, verbose=2, cv=10, n_jobs = cores)\n",
    "grid1.fit(x_train, y_train)"
   ]
  },
  {
   "cell_type": "code",
   "execution_count": null,
   "metadata": {},
   "outputs": [],
   "source": [
    "grid2 = GridSearchCV(adaGNB,paramsGNB,refit = True, verbose=2, cv=10, n_jobs = cores)\n",
    "grid2.fit(x_train, y_train)"
   ]
  },
  {
   "cell_type": "code",
   "execution_count": null,
   "metadata": {},
   "outputs": [],
   "source": [
    "graph1 = pd.Series([cbtime,lgbtime,xgbtime], index=['cbtime', 'lgbtime', 'xgbtime'])\n",
    "graph2 = pd.Series([cbscore,lgbscore,xgbscore], index=['cbscore', 'lgbscore', 'xgbscore'])"
   ]
  },
  {
   "cell_type": "code",
   "execution_count": null,
   "metadata": {},
   "outputs": [],
   "source": [
    "graph1.plot(kind='bar', title =\"TIME\", figsize=(10, 10), legend=True, fontsize=14, stacked=True)"
   ]
  },
  {
   "cell_type": "code",
   "execution_count": null,
   "metadata": {},
   "outputs": [],
   "source": [
    "graph2.plot(kind='bar', title =\"SCORE\", figsize=(10, 10), legend=True, fontsize=14, stacked=True)"
   ]
  }
 ],
 "metadata": {
  "kernelspec": {
   "display_name": "Python 3",
   "language": "python",
   "name": "python3"
  },
  "language_info": {
   "codemirror_mode": {
    "name": "ipython",
    "version": 3
   },
   "file_extension": ".py",
   "mimetype": "text/x-python",
   "name": "python",
   "nbconvert_exporter": "python",
   "pygments_lexer": "ipython3",
   "version": "3.6.9"
  }
 },
 "nbformat": 4,
 "nbformat_minor": 4
}
